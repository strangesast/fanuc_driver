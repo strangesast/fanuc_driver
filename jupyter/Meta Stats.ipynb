{
 "cells": [
  {
   "cell_type": "code",
   "execution_count": 38,
   "metadata": {},
   "outputs": [
    {
     "name": "stdout",
     "output_type": "stream",
     "text": [
      "Requirement already satisfied: psycopg2-binary in /opt/conda/lib/python3.8/site-packages (2.8.6)\n",
      "Collecting tabulate\n",
      "  Downloading tabulate-0.8.7-py3-none-any.whl (24 kB)\n",
      "Installing collected packages: tabulate\n",
      "Successfully installed tabulate-0.8.7\n"
     ]
    }
   ],
   "source": [
    "!pip install psycopg2-binary\n",
    "!pip install tabulate\n",
    "import psycopg2 as pg\n",
    "import pandas as pd"
   ]
  },
  {
   "cell_type": "code",
   "execution_count": 42,
   "metadata": {},
   "outputs": [
    {
     "name": "stdout",
     "output_type": "stream",
     "text": [
      "|    | meta                |      avg |   min |           max |   stddev |\n",
      "|---:|:--------------------|---------:|------:|--------------:|---------:|\n",
      "|  0 | meta_block          |  36791.8 |  4000 |   2.80018e+06 |  48476.9 |\n",
      "|  1 | meta_cycle_time     |          |   nan | nan           |          |\n",
      "|  2 | meta_dynamic        |  81886   | 12000 |   4.04025e+06 | 101087   |\n",
      "|  3 | meta_info           | 101471   | 50999 |   1.92e+06    | 126015   |\n",
      "|  4 | meta_message        |  39838.7 |  3935 |   2.66817e+06 |  52815.9 |\n",
      "|  5 | meta_part_count     |  33850.7 |     0 |   6.67158e+06 |  45438.2 |\n",
      "|  6 | meta_program        | 141192   | 10593 |   2.31614e+06 |  66434.7 |\n",
      "|  7 | meta_program_header | 132309   |  8273 |   2.89131e+06 | 126097   |\n",
      "|  8 | meta_program_name   |  37777.4 | 13188 |   2.64417e+06 |  31857.8 |\n",
      "|  9 | meta_status         |  33599.2 |  3723 |   2.66417e+06 |  44925.1 |\n",
      "| 10 | meta_tool           |  34783.6 |     0 |   2.51616e+06 |  46002.4 |\n",
      "| 11 | meta_total          | 263377   | 68004 |   6.75273e+06 | 282758   |\n"
     ]
    }
   ],
   "source": [
    "con = pg.connect(\"dbname=testing user=postgres password=password host=localhost port=5433\")\n",
    "cur = con.cursor()\n",
    "cur.execute('''\n",
    "select column_name\n",
    "from information_schema.COLUMNS as c\n",
    "where c.TABLE_NAME = 'input-avro' and c.COLUMN_NAME like 'meta_%'\n",
    "''')\n",
    "cols = [c for c, in cur.fetchall()]\n",
    "\n",
    "fns = ['avg', 'min', 'max', 'stddev']\n",
    "keys = [(fn, c) for fn in fns for c in cols]\n",
    "sub = ', '.join(f'{fn}(\"{c}\") as {fn}_{c}' for fn, c in keys)\n",
    "q = f'select {sub} from \"input-avro\"'\n",
    "cur.execute(q)\n",
    "d = {c: [c] for c in cols}\n",
    "\n",
    "for (fn, c), val in zip(keys, cur.fetchone()):\n",
    "    d[c].append(val)\n",
    "    \n",
    "\n",
    "stats = pd.DataFrame(d.values(), columns = ['meta', *fns])\n",
    "print(stats.to_markdown())"
   ]
  },
  {
   "cell_type": "code",
   "execution_count": null,
   "metadata": {},
   "outputs": [],
   "source": []
  }
 ],
 "metadata": {
  "kernelspec": {
   "display_name": "Python 3",
   "language": "python",
   "name": "python3"
  },
  "language_info": {
   "codemirror_mode": {
    "name": "ipython",
    "version": 3
   },
   "file_extension": ".py",
   "mimetype": "text/x-python",
   "name": "python",
   "nbconvert_exporter": "python",
   "pygments_lexer": "ipython3",
   "version": "3.8.6"
  }
 },
 "nbformat": 4,
 "nbformat_minor": 4
}
